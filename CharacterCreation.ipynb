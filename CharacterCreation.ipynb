{
 "cells": [
  {
   "cell_type": "code",
   "execution_count": 4,
   "metadata": {},
   "outputs": [
    {
     "name": "stdout",
     "output_type": "stream",
     "text": [
      "Nehal, 1999, WARRIOR\n",
      "!dlroW olleH\n"
     ]
    }
   ],
   "source": [
    "def CharacterCreation():\n",
    "    name = input(\"What is your full name?: \")\n",
    "    age = input(\"What is your age?: \")\n",
    "    Class = input(\"What is your class? Knight, Warrior, Healer?: \")\n",
    "    catchphrase = input(\"What is your catchphrase?: \")\n",
    "    \n",
    "    name = name.lower().capitalize()\n",
    "\n",
    "    age = int(age)\n",
    "    current_year = 2024\n",
    "    birth_year = current_year - age\n",
    "\n",
    "    Class = Class.upper()\n",
    "\n",
    "    reversed_catchphrase = catchphrase[::-1]\n",
    "\n",
    "    print(f\"{name}, {birth_year}, {Class}\")\n",
    "    print(reversed_catchphrase)\n",
    "\n",
    "CharacterCreation()"
   ]
  }
 ],
 "metadata": {
  "kernelspec": {
   "display_name": "Python 3",
   "language": "python",
   "name": "python3"
  },
  "language_info": {
   "codemirror_mode": {
    "name": "ipython",
    "version": 3
   },
   "file_extension": ".py",
   "mimetype": "text/x-python",
   "name": "python",
   "nbconvert_exporter": "python",
   "pygments_lexer": "ipython3",
   "version": "3.13.0"
  }
 },
 "nbformat": 4,
 "nbformat_minor": 2
}
